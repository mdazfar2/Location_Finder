{
 "cells": [
  {
   "cell_type": "code",
   "execution_count": 1,
   "id": "039c8ba5",
   "metadata": {},
   "outputs": [
    {
     "name": "stdout",
     "output_type": "stream",
     "text": [
      "What type of place are you looking for? (e.g., park, mall, ATM, hotel): atm\n",
      "Enter the search radius (in kilometers): 20\n",
      "\n",
      "Your current location: Barodia Scheme, Bani Park, Jaipur, Jaipur Municipal Corporation, Jaipur Tehsil, Jaipur District, Rajasthan, 302006, India\n",
      "\n",
      "Sawai Jai Singh Circle, Barodia Scheme, Bani Park, Jaipur, Jaipur Municipal Corporation, Jaipur Tehsil, Jaipur District, Rajasthan, 302006, India (0.81 km) - https://www.google.com/maps/search/?api=1&query=26.925404,75.7928151\n",
      "Station Road, Barodia Scheme, Bani Park, Jaipur, Jaipur Municipal Corporation, Jaipur Tehsil, Jaipur District, Rajasthan, 302006, India (0.82 km) - https://www.google.com/maps/search/?api=1&query=26.9209472,75.7959054\n",
      "Sawai Jai Singh Highway, Barodia Scheme, Bani Park, Jaipur, Jaipur Municipal Corporation, Jaipur Tehsil, Jaipur District, Rajasthan, 302006, India (0.93 km) - https://www.google.com/maps/search/?api=1&query=26.9275854,75.7906096\n",
      "Karnataka Bank, Mirza Ismail Road, Barodia Scheme, Bani Park, Jaipur, Jaipur Municipal Corporation, Jaipur Tehsil, Jaipur District, Rajasthan, 302006, India (1.07 km) - https://www.google.com/maps/search/?api=1&query=26.91869,75.7985653\n",
      "Indian Bank, Mirza Ismail Road, Barodia Scheme, Bani Park, Jaipur, Jaipur Municipal Corporation, Jaipur Tehsil, Jaipur District, Rajasthan, 302006, India (1.08 km) - https://www.google.com/maps/search/?api=1&query=26.9194143,75.7986345\n",
      "Catholic Syrian Bank, Mirza Ismail Road, Barodia Scheme, Bani Park, Jaipur, Jaipur Municipal Corporation, Jaipur Tehsil, Jaipur District, Rajasthan, 302006, India (1.08 km) - https://www.google.com/maps/search/?api=1&query=26.9195736,75.7986796\n",
      "Indian Overseas Bank, Mirza Ismail Road, Barodia Scheme, Bani Park, Jaipur, Jaipur Municipal Corporation, Jaipur Tehsil, Jaipur District, Rajasthan, 302006, India (1.17 km) - https://www.google.com/maps/search/?api=1&query=26.9183265,75.7995141\n",
      "Church road, Barodia Scheme, Chandpole, Jaipur, Jaipur Municipal Corporation, Jaipur Tehsil, Jaipur District, Rajasthan, 302001, India (1.19 km) - https://www.google.com/maps/search/?api=1&query=26.9173574,75.7994798\n",
      "Icici Bank, Church road, Barodia Scheme, Chandpole, Jaipur, Jaipur Municipal Corporation, Jaipur Tehsil, Jaipur District, Rajasthan, 302001, India (1.19 km) - https://www.google.com/maps/search/?api=1&query=26.9181265,75.7996745\n",
      "Indian State Bank, Church road, Barodia Scheme, Chandpole, Jaipur, Jaipur Municipal Corporation, Jaipur Tehsil, Jaipur District, Rajasthan, 302001, India (1.21 km) - https://www.google.com/maps/search/?api=1&query=26.9177877,75.7998401\n"
     ]
    }
   ],
   "source": [
    "from geopy.geocoders import Nominatim\n",
    "from geopy.distance import geodesic\n",
    "import requests\n",
    "\n",
    "def get_user_location():\n",
    "    try:\n",
    "        response = requests.get('https://ipinfo.io')\n",
    "        data = response.json()\n",
    "        return data['loc'].split(',')\n",
    "    except:\n",
    "        print(\"Error: Unable to detect your location.\")\n",
    "        return None, None\n",
    "\n",
    "def generate_google_maps_link(lat, lon):\n",
    "    return f\"https://www.google.com/maps/search/?api=1&query={lat},{lon}\"\n",
    "\n",
    "def find_nearby_places(lat, lon, place_type, radius):\n",
    "    geolocator = Nominatim(user_agent=\"nearby_search\")\n",
    "    location = geolocator.reverse((lat, lon))\n",
    "    print(f\"\\nYour current location: {location}\\n\")\n",
    "    \n",
    "    query = f\"{place_type} near {lat}, {lon}\"\n",
    "    try:\n",
    "        places = geolocator.geocode(query, exactly_one=False, limit=None)\n",
    "        if places:\n",
    "            for place in places:\n",
    "                place_coords = (place.latitude, place.longitude)\n",
    "                place_distance = geodesic((lat, lon), place_coords).kilometers\n",
    "                if place_distance <= radius:\n",
    "                    google_maps_link = generate_google_maps_link(place.latitude, place.longitude)\n",
    "                    print(f\"{place.address} ({place_distance:.2f} km) - {google_maps_link}\")\n",
    "        else:\n",
    "            print(\"No nearby places found for the given type.\")\n",
    "    except:\n",
    "        print(\"Error: Unable to fetch nearby places.\")\n",
    "        \n",
    "if __name__ == \"__main__\":\n",
    "    user_lat, user_lon = get_user_location()\n",
    "    \n",
    "    if user_lat is not None and user_lon is not None:\n",
    "        place_type = input(\"What type of place are you looking for? (e.g., park, mall, ATM, hotel): \")\n",
    "        search_radius = float(input(\"Enter the search radius (in kilometers): \"))\n",
    "        find_nearby_places(float(user_lat), float(user_lon), place_type, search_radius)\n"
   ]
  },
  {
   "cell_type": "code",
   "execution_count": null,
   "id": "25cac265",
   "metadata": {},
   "outputs": [],
   "source": []
  }
 ],
 "metadata": {
  "kernelspec": {
   "display_name": "Python 3 (ipykernel)",
   "language": "python",
   "name": "python3"
  },
  "language_info": {
   "codemirror_mode": {
    "name": "ipython",
    "version": 3
   },
   "file_extension": ".py",
   "mimetype": "text/x-python",
   "name": "python",
   "nbconvert_exporter": "python",
   "pygments_lexer": "ipython3",
   "version": "3.11.3"
  }
 },
 "nbformat": 4,
 "nbformat_minor": 5
}
